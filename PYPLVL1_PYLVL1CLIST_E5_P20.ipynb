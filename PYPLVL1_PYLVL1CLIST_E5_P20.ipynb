{
  "cells": [
    {
      "cell_type": "markdown",
      "metadata": {
        "id": "view-in-github",
        "colab_type": "text"
      },
      "source": [
        "<a href=\"https://colab.research.google.com/github/DmirandaH/Soy-afro/blob/master/PYPLVL1_PYLVL1CLIST_E5_P20.ipynb\" target=\"_parent\"><img src=\"https://colab.research.google.com/assets/colab-badge.svg\" alt=\"Open In Colab\"/></a>"
      ]
    },
    {
      "cell_type": "markdown",
      "metadata": {
        "id": "8Gb3KaNNkigl"
      },
      "source": [
        "<p><img src=\"https://upload.wikimedia.org/wikipedia/commons/thumb/1/13/SoftServe_logo_2017.svg/179px-SoftServe_logo_2017.svg.png?20220507181101\" alt=\"\" width=\"363\" height=\"63\" /></p>\n",
        "\n",
        "----\n",
        "\n",
        "### **INFORMACIÓN TECNICA**\n",
        "* **ID:** PYPLVL1_PYLVL1CLIST_E5_P20\n",
        "* **Python Versión:** 3.x\n",
        "* **Versión:** 0.0.1\n",
        "\n",
        "---\n",
        "### **INTRODUCCIÓN**\n",
        "\n",
        "En Python, una lista es una estructura de datos versátil y fundamental utilizada para almacenar una colección de elementos. Es una secuencia ordenada de elementos que pueden ser de cualquier tipo de dato, como enteros, cadenas e incluso otras listas. Las listas son mutables, lo que significa que puedes modificar sus elementos después de haber sido creadas.\n",
        "\n",
        "Las listas son increíblemente útiles para manejar colecciones de datos y desempeñan un papel significativo en la programación en Python debido a su flexibilidad y facilidad de uso.\n",
        "\n",
        "### **QUE SE APRENDERA**\n",
        "\n",
        "  - Crear una lista:\n",
        "    Para crear una lista en Python, se utilizan corchetes [] y se separan los elementos con comas. Por ejemplo:\n",
        "\n",
        "    ```python\n",
        "    mi_lista = [1, 2, 3, 4, 5]\n",
        "\n",
        "    ```\n",
        "\n",
        "  - Acceder a los elementos:\n",
        "    Puedes acceder a los elementos de una lista utilizando su índice. Python utiliza indexación basada en cero, por lo que el primer elemento está en el índice 0, el segundo elemento en el índice 1, y así sucesivamente. Para acceder a un elemento, utiliza corchetes con el índice:\n",
        "    ```python\n",
        "    primer_elemento = mi_lista[0]  # Esto será 1\n",
        "    segundo_elemento = mi_lista[1]  # Esto será 2\n",
        "\n",
        "    ```\n",
        "\n",
        "  - Modificar elementos:\n",
        "    Las listas son mutables, por lo que puedes cambiar el valor de los elementos utilizando su índice:\n",
        "\n",
        "    ```python\n",
        "    mi_lista[2] = 10  # Cambia el tercer elemento a 10\n",
        "\n",
        "    ```\n",
        "\n",
        "  - Rebanado de listas:\n",
        "    También puedes extraer una porción de una lista utilizando rebanado. El rebanado te permite obtener una sublista basada en un rango específico de índices:\n",
        "    ```python\n",
        "    sub_lista = mi_lista[1:4]  # Esto crea una nueva lista [2, 10, 4]\n",
        "\n",
        "    ```\n",
        "\n",
        "  - Métodos de listas:\n",
        "    Python proporciona varios métodos integrados para manipular listas. Algunos métodos comunes incluyen:\n",
        "    ```python\n",
        "    mi_lista.append(6)         # Agrega 6 al final de la lista\n",
        "    mi_lista.insert(2, 7)      # Inserta 7 en el índice 2\n",
        "    mi_lista.remove(3)         # Elimina la primera aparición de 3\n",
        "    mi_lista.pop()             # Elimina el último elemento y lo devuelve\n",
        "    len(mi_lista)              # Devuelve el número de elementos en la lista\n",
        "\n",
        "    ```\n",
        "\n",
        "  - Concatenación de listas:\n",
        "    Puedes combinar dos listas usando el operador `+` para crear una nueva lista:\n",
        "    ```python\n",
        "    lista1 = [1, 2, 3]\n",
        "    lista2 = [4, 5, 6]\n",
        "    lista_combinada = lista1 + lista2  # Resulta en [1, 2, 3, 4, 5, 6]\n",
        "\n",
        "    ```\n",
        "\n",
        "\n",
        "# **EJERCICIOS**"
      ]
    },
    {
      "cell_type": "markdown",
      "metadata": {
        "id": "MzWi-PIykihC"
      },
      "source": [
        "<p>\n",
        "    <img src=\"https://cdn.icon-icons.com/icons2/1130/PNG/512/numberzeroinacircle_80181.png\" alt=\"01\" width=\"65\" height=\"65\" />\n",
        "    <img src=\"https://cdn.icon-icons.com/icons2/1130/PNG/512/numberoneinacircle_80030.png\" alt=\"01\" width=\"65\" height=\"65\" />\n",
        "</p>\n",
        "\n",
        "\n",
        "\n",
        "* **ID:** PYLVL1CLIST-01\n",
        "* **DESCRIPCIÓN:** Operaciones con listas.\n",
        "\n",
        "    Dada un parametro `lista` que contiene una lista de N elementos, escribir dentro de la función ``function`` la lógica que permita retornar los elementos en indices impares de la primera mitad de la lista.\n",
        "\n",
        "    **Condición:** Solo puede utilizar las propiedades y funcionalidades embebidas en el tipo de dato lista.\n",
        "\n",
        "\\\n",
        "**Reglas:**\n",
        "1. No modifique la declaración de la función. El concepto detras de las funciones se verá mas adelante.\n",
        "2. Si no sigue alguna de estas reglas, el ejercicio será marcado como erroneo.\n",
        "\n",
        "\\\n",
        "**Respuesta Esperada**\n",
        "\n",
        "```python\n",
        "return lista\n",
        "```\n"
      ]
    },
    {
      "cell_type": "code",
      "source": [],
      "metadata": {
        "id": "axETIZV_lkaW"
      },
      "execution_count": null,
      "outputs": []
    },
    {
      "cell_type": "code",
      "execution_count": 15,
      "metadata": {
        "colab": {
          "base_uri": "https://localhost:8080/"
        },
        "id": "5tSf9BY5kihG",
        "outputId": "6b6a1066-a5a0-47da-fdf9-1916c6cb8b69"
      },
      "outputs": [
        {
          "output_type": "stream",
          "name": "stdout",
          "text": [
            "['*', '*', '*', '*', '*', '*', '*']\n"
          ]
        },
        {
          "output_type": "execute_result",
          "data": {
            "text/plain": [
              "['*', '*', '*', '*', '*', '*', '*']"
            ]
          },
          "metadata": {},
          "execution_count": 15
        }
      ],
      "source": [
        "def function(lista):\n",
        "    \"\"\"Escriba su codigo aqui...\"\"\"\n",
        "    primera_mitad = lista[:len(lista)//2]  # Obtener la primera mitad de la lista\n",
        "    elementos_pares = primera_mitad[1::2]  # Obtener los elementos en índices pares\n",
        "\n",
        "    print(elementos_pares)\n",
        "    return elementos_pares\n",
        "\n",
        "\n",
        "function(['*'] * 30)"
      ]
    },
    {
      "cell_type": "markdown",
      "metadata": {
        "id": "ZMW3JD-ckihO"
      },
      "source": [
        "<p>\n",
        "    <img src=\"https://cdn.icon-icons.com/icons2/1130/PNG/512/numberzeroinacircle_80181.png\" alt=\"02\" width=\"65\" height=\"65\" />\n",
        "    <img src=\"https://cdn.icon-icons.com/icons2/1130/PNG/512/numbertwoinacircle_80299.png\" alt=\"02\" width=\"65\" height=\"65\" />\n",
        "</p>\n",
        "\n",
        "* **ID:** PYLVL1CLIST-02\n",
        "* **DESCRIPCIÓN:** Operaciones con listas y concatenación multiple.\n",
        "\n",
        "    Dada una lista de N >= 50 elementos, escribir dentro de la función ``function`` la lógica para ejecutar lo siguiente:\n",
        "    1. Para el primer cuarto de la lista invertir la posicion de los elementos.\n",
        "    2. Para el segundo cuarto de la lista, identificar los valores maximo y minimo.\n",
        "    3. Para la tercer cuarto de la lista reemplazar todos los elementos por 'NN'.\n",
        "    4. Para el ultimo cuarto de la lista solo tomar los elementos en posiciones pares.\n",
        "    5. Concatenar las listas resultantes en una sola.\n",
        "\n",
        "    Retornar la lista resultante.\n",
        "\n",
        "\\\n",
        "**Reglas:**\n",
        "1. No modifique la declaración de la función. El concepto detras de las funciones se verá mas adelante.\n",
        "2. Si no sigue alguna de estas reglas, el ejercicio será marcado como erroneo.\n",
        "\n",
        "\\\n",
        "**Respuesta Esperada**\n",
        "\n",
        "```python\n",
        "return lista_concatenada\n",
        "```"
      ]
    },
    {
      "cell_type": "code",
      "execution_count": 5,
      "metadata": {
        "colab": {
          "base_uri": "https://localhost:8080/"
        },
        "id": "qKixXr4jkihR",
        "outputId": "8cbe1b13-7d6c-4917-e544-f48d72bed975"
      },
      "outputs": [
        {
          "output_type": "stream",
          "name": "stdout",
          "text": [
            "Invirtiendo el primer cuarto de la lista: [12, 11, 10, 9, 8, 7, 6, 5, 4, 3, 2, 1]\n",
            "Identificando valores máximos y mínimos: [38, 13]\n",
            "Reemplazando los elementos por 'NN': ['NN', 'NN', 'NN', 'NN', 'NN', 'NN', 'NN', 'NN', 'NN', 'NN', 'NN', 'NN', 'NN']\n",
            "Elementos en posiciones pares: [39, 41, 43, 45, 47, 49, 51]\n",
            "Concatenando lista resultante: [12, 11, 10, 9, 8, 7, 6, 5, 4, 3, 2, 1, 38, 13, 'NN', 'NN', 'NN', 'NN', 'NN', 'NN', 'NN', 'NN', 'NN', 'NN', 'NN', 'NN', 'NN', 39, 41, 43, 45, 47, 49, 51]\n"
          ]
        },
        {
          "output_type": "execute_result",
          "data": {
            "text/plain": [
              "([12, 11, 10, 9, 8, 7, 6, 5, 4, 3, 2, 1],\n",
              " [38, 13],\n",
              " ['NN',\n",
              "  'NN',\n",
              "  'NN',\n",
              "  'NN',\n",
              "  'NN',\n",
              "  'NN',\n",
              "  'NN',\n",
              "  'NN',\n",
              "  'NN',\n",
              "  'NN',\n",
              "  'NN',\n",
              "  'NN',\n",
              "  'NN'],\n",
              " [39, 41, 43, 45, 47, 49, 51])"
            ]
          },
          "metadata": {},
          "execution_count": 5
        }
      ],
      "source": [
        "\n",
        "def function(lista):\n",
        "    listado = [1, 2, 3, 4, 5, 6, 7, 8, 9, 10, 11, 12, 13, 14, 15, 16, 17, 18, 19, 20, 21, 22, 23, 24, 25, 26, 27, 28, 29, 30, 31, 32, 33, 34, 35, 36, 37, 38, 39, 40, 41, 42, 43, 44, 45, 46, 47, 48, 49, 50, 51]\n",
        "    primer_cuarto = listado[:len(listado)//4][::-1]\n",
        "    print(\"Invirtiendo el primer cuarto de la lista:\", primer_cuarto)\n",
        "    segundo_cuarto = [max(listado[len(listado)//4:3*len(listado)//4]), min(listado[len(listado)//4:3*len(listado)//4])]\n",
        "    print(\"Identificando valores máximos y mínimos:\", segundo_cuarto)\n",
        "    tercer_cuarto = ['NN'] * ((len(listado)//2) - (len(listado)//4))\n",
        "    print(\"Reemplazando los elementos por 'NN':\", tercer_cuarto)\n",
        "    ultimo_cuarto = listado[len(listado)*3//4::2]\n",
        "    print(\"Elementos en posiciones pares:\", ultimo_cuarto)\n",
        "    resultado = primer_cuarto + segundo_cuarto + tercer_cuarto + ultimo_cuarto\n",
        "    print(\"Concatenando lista resultante:\", resultado)\n",
        "    lista_concatenada = primer_cuarto, segundo_cuarto, tercer_cuarto, ultimo_cuarto\n",
        "\n",
        "\n",
        "    return lista_concatenada\n",
        "\n",
        "\n",
        "function(list(range(1, 51, 1)))\n"
      ]
    },
    {
      "cell_type": "markdown",
      "metadata": {
        "id": "gD22gW7nkihV"
      },
      "source": [
        "<p>\n",
        "    <img src=\"https://cdn.icon-icons.com/icons2/1130/PNG/512/numberzeroinacircle_80181.png\" alt=\"03\" width=\"65\" height=\"65\" />\n",
        "    <img src=\"https://cdn.icon-icons.com/icons2/1130/PNG/512/numberthreeinacircle_80289.png\" alt=\"03\" width=\"65\" height=\"65\" />\n",
        "</p>\n",
        "\n",
        "\n",
        "\n",
        "* **ID:** PYLVL1CLIST-03\n",
        "* **DESCRIPCIÓN:**\n",
        "\n",
        "    Dado el siguiente string de ejemplo '1234567890', Escribir dentro de la función ``function`` la lógica para organizar los numeros dentro del string y retorne:<br/>\n",
        "    Ejemplo:\n",
        "    * string1 -> '0123456789'\n",
        "    * string2 -> '9876543210'\n",
        "\n",
        "\\\n",
        "**Reglas:**\n",
        "1. No modifique la declaración de la función. El concepto detras de las funciones se verá mas adelante.\n",
        "2. Si no sigue alguna de estas reglas, el ejercicio será marcado como erroneo.\n",
        "\n",
        "\\\n",
        "**Respuesta Esperada**\n",
        "```python\n",
        "    return result_1, result_2\n",
        "```"
      ]
    },
    {
      "cell_type": "code",
      "execution_count": 14,
      "metadata": {
        "colab": {
          "base_uri": "https://localhost:8080/"
        },
        "id": "8l-CiPNZkihY",
        "outputId": "ded73a4a-c6cf-4aba-f9ba-ca0394e01cd6"
      },
      "outputs": [
        {
          "output_type": "stream",
          "name": "stdout",
          "text": [
            "1234658790 0978564321\n"
          ]
        },
        {
          "output_type": "execute_result",
          "data": {
            "text/plain": [
              "('1234658790', '0978564321')"
            ]
          },
          "metadata": {},
          "execution_count": 14
        }
      ],
      "source": [
        "def function(valor):\n",
        "    lista = []\n",
        "    lista[:0] = valor\n",
        "    \"\"\"Escriba su codigo aqui...\"\"\"\n",
        "    result_1 = ''.join(lista)\n",
        "    result_2 = ''.join(reversed(lista))\n",
        "    print(result_1, result_2)\n",
        "    return result_1, result_2\n",
        "\n",
        "function('1234658790')"
      ]
    },
    {
      "cell_type": "markdown",
      "metadata": {
        "id": "TcFyiKZQkihb"
      },
      "source": [
        "<p>\n",
        "    <img src=\"https://cdn.icon-icons.com/icons2/1130/PNG/512/numberzeroinacircle_80181.png\" alt=\"04\" width=\"65\" height=\"65\" />\n",
        "    <img src=\"https://cdn.icon-icons.com/icons2/1130/PNG/512/numberfourincircularbutton_80047.png\" alt=\"04\" width=\"65\" height=\"65\" />\n",
        "</p>\n",
        "\n",
        "* **ID:** PYLVL1CLIST-04\n",
        "* **DESCRIPCIÓN:** Tratamiento de string como listas.\n",
        "\n",
        "    Dado un  parametro ``string`` con caracteres de tamaño N y un parametro ``n`` que indica el numero de saltos dentro del string, escribir dentro de la función ``function`` la lógica para ejecutar lo siguiente:\n",
        "    1. Elimine el primer y ultimo elemento.\n",
        "    2. Saque los caracteres en saltos de ``n`` pasos no mayores a la mitad del tamaño total de la lista.\n",
        "    3. Organice de manera ascedente los caracteres restantes.\n",
        "\n",
        "\\\n",
        "**Reglas:**\n",
        "1. No modifique la declaración de la función. El concepto detras de las funciones se verá mas adelante.\n",
        "2. Si no sigue alguna de estas reglas, el ejercicio será marcado como erroneo.\n",
        "\n",
        "\\\n",
        "**Respuesta Esperada**\n",
        "```python\n",
        "return result_string\n",
        "```\n"
      ]
    },
    {
      "cell_type": "code",
      "execution_count": 13,
      "metadata": {
        "colab": {
          "base_uri": "https://localhost:8080/",
          "height": 53
        },
        "id": "Q-xkGMm2kihf",
        "outputId": "2230f57d-f774-4221-e178-e9667ae4aa0f"
      },
      "outputs": [
        {
          "output_type": "stream",
          "name": "stdout",
          "text": [
            "23567btz\n"
          ]
        },
        {
          "output_type": "execute_result",
          "data": {
            "text/plain": [
              "'23567btz'"
            ],
            "application/vnd.google.colaboratory.intrinsic+json": {
              "type": "string"
            }
          },
          "metadata": {},
          "execution_count": 13
        }
      ],
      "source": [
        "\n",
        "def function(string, n):\n",
        "    \"\"\"Escriba su codigo aqui...\"\"\"\n",
        "    # Eliminar el primer y último elemento\n",
        "    string = string[1:-1]\n",
        "\n",
        "    # Sacar los caracteres en saltos de n pasos\n",
        "    string = string[::n]\n",
        "\n",
        "    # Organizar de manera ascendente los caracteres restantes\n",
        "    string = ''.join(sorted(string))\n",
        "    print(string)\n",
        "\n",
        "    result_string = string\n",
        "\n",
        "    return result_string\n",
        "\n",
        "\n",
        "function('Abc235435786strzh', 2)"
      ]
    },
    {
      "cell_type": "markdown",
      "metadata": {
        "id": "pHULrQA4kihh"
      },
      "source": [
        "<p>\n",
        "    <img src=\"https://cdn.icon-icons.com/icons2/1130/PNG/512/numberzeroinacircle_80181.png\" alt=\"05\" width=\"65\" height=\"65\" />\n",
        "    <img src=\"https://cdn.icon-icons.com/icons2/1130/PNG/512/numberfiveincircularbutton_80245.png\" alt=\"05\" width=\"65\" height=\"65\" />\n",
        "</p>\n",
        "\n",
        "\n",
        "* **ID:** PYLVL1CLIST-05\n",
        "* **DESCRIPCIÓN:** Operaciones con listas y strings.\n",
        "\n",
        "    Dada la siguiente lista de strings, Escribir dentro de la función ``function`` la lógica que encuentre la posición global de la primera ocurrencia dado un valor `string`.\n",
        "\n",
        "    ```python\n",
        "    lista = ['DEFG', 'ROJO', 'AZUL', 'verde', 'hfabcF', 'ABC', 'amarilloROJOVERde', 'verde limon', 'defqwrwet']\n",
        "    ```\n",
        "\n",
        "    **Condición**: todas las ocurrencias independiente de si es mayuscula o minuscula.\n",
        "\n",
        "    Retorne la posicion de la primera ocurrencia e imprima cada uno de los pasos que realizó para llegar al resultado, si lo considera necesario.\n",
        "\n",
        "\\\n",
        "**Reglas:**\n",
        "1. No modifique la declaración de la función. El concepto detras de las funciones se verá mas adelante.\n",
        "2. Si no sigue alguna de estas reglas, el ejercicio será marcado como erroneo.\n",
        "\n",
        "\\\n",
        "**Respuesta Esperada**\n",
        "```python\n",
        "return primera_ocurrencia\n",
        "```\n"
      ]
    },
    {
      "cell_type": "code",
      "execution_count": 17,
      "metadata": {
        "colab": {
          "base_uri": "https://localhost:8080/"
        },
        "id": "2ODJaNALkihk",
        "outputId": "a5fcf7af-2390-4211-8955-a425a5a19bbb"
      },
      "outputs": [
        {
          "output_type": "stream",
          "name": "stdout",
          "text": [
            "El valor de la primera ocurrencia en la lista es: 4\n"
          ]
        },
        {
          "output_type": "execute_result",
          "data": {
            "text/plain": [
              "(4, ['hfabcF', 'ABC', 'amarilloROJOVERde', 'verde limon', 'defqwrwet'])"
            ]
          },
          "metadata": {},
          "execution_count": 17
        }
      ],
      "source": [
        "lista = ['DEFG', 'ROJO', 'AZUL', 'verde', 'hfabcF', 'ABC', 'amarilloROJOVERde', 'verde limon', 'defqwrwet']\n",
        "\n",
        "\n",
        "def function(lista, string):\n",
        "    \"\"\"Escriba su codigo aqui...\"\"\"\n",
        "    mitad_lista = len(lista) // 2\n",
        "    resultado = lista[mitad_lista:]\n",
        "    print(\"El valor de la primera ocurrencia en la lista es:\", mitad_lista)\n",
        "    return mitad_lista, resultado\n",
        "\n",
        "function(lista, 'abc')"
      ]
    }
  ],
  "metadata": {
    "kernelspec": {
      "display_name": "evaluator-WNwgce54-py3.9",
      "language": "python",
      "name": "python3"
    },
    "language_info": {
      "codemirror_mode": {
        "name": "ipython",
        "version": 3
      },
      "file_extension": ".py",
      "mimetype": "text/x-python",
      "name": "python",
      "nbconvert_exporter": "python",
      "pygments_lexer": "ipython3",
      "version": "3.9.12"
    },
    "orig_nbformat": 4,
    "colab": {
      "provenance": [],
      "include_colab_link": true
    }
  },
  "nbformat": 4,
  "nbformat_minor": 0
}
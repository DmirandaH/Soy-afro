{
  "cells": [
    {
      "cell_type": "markdown",
      "metadata": {
        "id": "view-in-github",
        "colab_type": "text"
      },
      "source": [
        "<a href=\"https://colab.research.google.com/github/DmirandaH/Soy-afro/blob/master/PYPLVL1_PYLVL1ASTR_E10_P10.ipynb\" target=\"_parent\"><img src=\"https://colab.research.google.com/assets/colab-badge.svg\" alt=\"Open In Colab\"/></a>"
      ]
    },
    {
      "cell_type": "markdown",
      "metadata": {
        "id": "f95p817qByaC"
      },
      "source": [
        "<p><img src=\"https://upload.wikimedia.org/wikipedia/commons/thumb/1/13/SoftServe_logo_2017.svg/179px-SoftServe_logo_2017.svg.png?20220507181101\" alt=\"\" width=\"363\" height=\"63\" /></p>\n",
        "\n",
        "----\n",
        "\n",
        "### **INFORMACIÓN TECNICA**\n",
        "* **ID**: PYPLVL1_PYLVL1ASTR_E10_P10\n",
        "* **Python Versión:** 3.x\n",
        "* **Versión:** 0.0.1\n",
        "---\n",
        "### **INTRODUCCIÓN**\n",
        "\n",
        "En Python, una cadena es una secuencia de caracteres. Es un tipo de dato fundamental utilizado para representar texto. Las cadenas se encierran entre comillas simples (') o comillas dobles (\"), y pueden contener letras, dígitos, símbolos y espacios.\n",
        "\n",
        "Las cadenas son ampliamente utilizadas en Python para manejar datos de texto, manipulación de cadenas y trabajar con contenido de archivos, lo que las convierte en una parte esencial de la programación en Python.\n",
        "\n",
        "### **QUE SE APRENDERA**\n",
        "\n",
        "- Crear una Cadena:<br/>\n",
        "  Puedes crear una cadena encerrando el texto entre comillas simples o comillas dobles:\n",
        "  ```python\n",
        "  cadena_comillas_simples = 'Hola, mundo!'\n",
        "  cadena_comillas_dobles = \"Esto es una cadena.\"\n",
        "\n",
        "  ```\n",
        "\n",
        "- Operaciones con Cadenas:<br/>\n",
        "  Python permite diversas operaciones con cadenas:\n",
        "\n",
        "    - **Concatenación:** Puedes combinar cadenas usando el operador `+`:\n",
        "      ```python\n",
        "      cadena1 = \"Hola\"\n",
        "      cadena2 = \" Mundo\"\n",
        "      resultado = cadena1 + cadena2  # Resultado: \"Hola Mundo\"\n",
        "\n",
        "      ```\n",
        "\n",
        "    - **Repetición:** Puedes repetir una cadena usando el operador `*`:\n",
        "      ```python\n",
        "      cadena1 = \"Python \"\n",
        "      resultado = cadena1 * 3  # Resultado: \"Python Python Python \"\n",
        "\n",
        "      ```\n",
        "\n",
        "- Acceder a Caracteres en una Cadena:<br/>\n",
        "  Puedes acceder a caracteres individuales en una cadena mediante indexación. Python utiliza indexación basada en cero, por lo que el primer carácter está en el índice 0, el segundo en el índice 1, y así sucesivamente:\n",
        "  ```python\n",
        "  mi_cadena = \"Hola\"\n",
        "  primer_caracter = mi_cadena[0]  # Resultado: \"H\"\n",
        "  segundo_caracter = mi_cadena[1]  # Resultado: \"o\"\n",
        "\n",
        "  ```\n",
        "\n",
        "- Rebanado de Cadenas:<br/>\n",
        "  Puedes extraer una porción de una cadena utilizando el rebanado (slicing). El rebanado te permite obtener una subcadena basada en un rango específico de índices:\n",
        "  ```python\n",
        "  mi_cadena = \"Hola, mundo!\"\n",
        "  subcadena = mi_cadena[7:12]  # Resultado: \"mundo\"\n",
        "\n",
        "  ```\n",
        "\n",
        "- Métodos de Cadenas:<br/>\n",
        "  Python proporciona varios métodos integrados para manipular cadenas. Algunos métodos comunes son:\n",
        "    - `len()`: Devuelve la longitud de la cadena.\n",
        "    - `lower()`: Convierte la cadena a minúsculas.\n",
        "    - `upper()`: Convierte la cadena a mayúsculas.\n",
        "    - `strip()`: Elimina espacios en blanco al inicio y al final.\n",
        "    - `split()`: Divide la cadena en una lista de subcadenas basadas en un delimitador.\n",
        "    - `replace()`: Reemplaza una subcadena con otra subcadena.\n",
        "\n",
        "  ```python\n",
        "  mensaje = \" Hola, Python! \"\n",
        "  longitud = len(mensaje)                # Resultado: 16\n",
        "  mensaje_minusculas = mensaje.lower()   # Resultado: \" hola, python! \"\n",
        "  mensaje_mayusculas = mensaje.upper()   # Resultado: \" HOLA, PYTHON! \"\n",
        "  mensaje_sin_espacios = mensaje.strip() # Resultado: \"Hola, Python!\"\n",
        "  palabras = mensaje.split(\",\")          # Resultado: [' Hola', ' Python! ']\n",
        "  nuevo_mensaje = mensaje.replace(\"Python\", \"Java\")  # Resultado: \" Hola, Java! \"\n",
        "\n",
        "  ```\n",
        "\n",
        "\n",
        "\n",
        "# **EJERCICIOS**"
      ]
    },
    {
      "cell_type": "markdown",
      "metadata": {
        "id": "I1kgAOsTKqlx"
      },
      "source": [
        "<p>\n",
        "    <img src=\"https://cdn.icon-icons.com/icons2/1130/PNG/512/numberzeroinacircle_80181.png\" alt=\"01\" width=\"65\" height=\"65\" />\n",
        "    <img src=\"https://cdn.icon-icons.com/icons2/1130/PNG/512/numberoneinacircle_80030.png\" alt=\"01\" width=\"65\" height=\"65\" />\n",
        "</p>\n",
        "\n",
        "\n",
        "* **ID** PYLVL1ASTR-01\n",
        "* **DESCRIPCIÓN:** Strings\n",
        "\n",
        "String es un tipo de dato que identifica una cadena de caracteres, en python se pueden elaborar tanto con comillas dobles como\n",
        "con simples, pero no se pueden mezclar.\n",
        "\n",
        "El metodo type() retorna el tipo de dato de la variable analizada, en este ejercicio la ejecucion debe dar string.\n",
        "\n",
        "**Ejercicio:**<br/>\n",
        "Escribir dentro de la función ``function`` la lógica para crear 2 variables llamadas mensaje1 y mensaje2 la primera con un string (cualquiera) en comillas dobles y la segunda con otro string con comillas simples.\n",
        "\n",
        "\\\n",
        "**Reglas:**\n",
        "1. No modifique la declaración de la función. El concepto detras de las funciones se verá mas adelante.\n",
        "2. Si no sigue alguna de estas reglas, el ejercicio será marcado como erroneo.\n",
        "\n",
        "\\\n",
        "**Respuesta Esperada**\n",
        "\n",
        "```python\n",
        "# Retornar los tipos de datos de los mensajes que escribío.\n",
        "return tipo_str_mensaje1, tipo_str_mensaje2\n",
        "```\n"
      ]
    },
    {
      "cell_type": "code",
      "execution_count": null,
      "metadata": {
        "id": "GyiIPPhR_EjF",
        "colab": {
          "base_uri": "https://localhost:8080/"
        },
        "outputId": "fa985952-268f-41da-db40-d52a6500ac84"
      },
      "outputs": [
        {
          "output_type": "execute_result",
          "data": {
            "text/plain": [
              "(str, str)"
            ]
          },
          "metadata": {},
          "execution_count": 3
        }
      ],
      "source": [
        "\n",
        "def function(__unused):\n",
        "    \"\"\"Escriba su codigo aqui...\"\"\"\n",
        "    mensaje1 = str('Hola, soy una cadena de comillas simple')\n",
        "    mensaje2 = str(\"Hola, soy una cadena de comillas dobles\")\n",
        "    tipo_str_mensaje1 =type(mensaje1)\n",
        "    tipo_str_mensaje2 =type(mensaje2)\n",
        "    return tipo_str_mensaje1, tipo_str_mensaje2\n",
        "\n",
        "\n",
        "\n",
        "function(None)"
      ]
    },
    {
      "cell_type": "markdown",
      "metadata": {
        "id": "kiToUnqMNmJc"
      },
      "source": [
        "<p>\n",
        "    <img src=\"https://cdn.icon-icons.com/icons2/1130/PNG/512/numberzeroinacircle_80181.png\" alt=\"02\" width=\"65\" height=\"65\" />\n",
        "    <img src=\"https://cdn.icon-icons.com/icons2/1130/PNG/512/numbertwoinacircle_80299.png\" alt=\"02\" width=\"65\" height=\"65\" />\n",
        "</p>\n",
        "\n",
        "* **ID** PYLVL1ASTR-02\n",
        "* **DESCRIPCIÓN:** Tratamiento de String como cadenas de elementos.\n",
        "\n",
        "    Cuando se crea un objeto del tipo string en python, este es almacenado en pequeñas posiciones de memoria comenzando siempre con la posición cero, hasta el tamaño de la cadena de caracteres.\n",
        "\n",
        "    Para seleccionar un caracter específico colocamos el índice donde se ubica el caracter dentro de corchetes.\n",
        "\n",
        "    **Ejercicio:**<br/>\n",
        "    Dado el siguiente String, retornar el caracter en la posición 8\n",
        "\n",
        "\\\n",
        "**Reglas:**\n",
        "1. No modifique la declaración de la función. El concepto detras de las funciones se verá mas adelante.\n",
        "2. Si no sigue alguna de estas reglas, el ejercicio será marcado como erroneo.\n",
        "\n",
        "\\\n",
        "**Respuesta Esperada**\n",
        "\n",
        "```python\n",
        "return caracter\n",
        "```\n"
      ]
    },
    {
      "cell_type": "code",
      "execution_count": null,
      "metadata": {
        "id": "PP9Ioa9TQ8dy",
        "colab": {
          "base_uri": "https://localhost:8080/",
          "height": 35
        },
        "outputId": "efb2c4bc-51fe-4d31-9262-dbd690641ea3"
      },
      "outputs": [
        {
          "output_type": "execute_result",
          "data": {
            "text/plain": [
              "'r'"
            ],
            "application/vnd.google.colaboratory.intrinsic+json": {
              "type": "string"
            }
          },
          "metadata": {},
          "execution_count": 6
        }
      ],
      "source": [
        "\n",
        "def function(mensaje):\n",
        "\n",
        "  frase = mensaje[8]\n",
        "\n",
        "\n",
        "  return  frase\n",
        "\n",
        "\n",
        "function(\"Estoy aprendiendo\")\n"
      ]
    },
    {
      "cell_type": "markdown",
      "metadata": {
        "id": "N5EqgFikQH46"
      },
      "source": [
        "<p>\n",
        "    <img src=\"https://cdn.icon-icons.com/icons2/1130/PNG/512/numberzeroinacircle_80181.png\" alt=\"03\" width=\"65\" height=\"65\" />\n",
        "    <img src=\"https://cdn.icon-icons.com/icons2/1130/PNG/512/numberthreeinacircle_80289.png\" alt=\"03\" width=\"65\" height=\"65\" />\n",
        "</p>\n",
        "\n",
        "\n",
        "* **ID** PYLVL1ASTR-03\n",
        "* **DESCRIPCIÓN:** Tratamiento de String como cadenas de elementos.\n",
        "  \n",
        "    Para realizar slices en python o seleccionar segmentos del string se utiliza la notación: string[inicio:final:salteo].\n",
        "\n",
        "    Para invertir una String se utiliza la notacion [::-1]  </br>\n",
        "\n",
        "    **Ejemplo:**<br/>\n",
        "    ```python\n",
        "    a = \"Hola mundo\"\n",
        "    a[:4] #     -> Retorna: Hola\n",
        "    a[5:] #     -> Retorna: Mundo\n",
        "    a[::-1] #   -> Retorna: odnum aloH\n",
        "    a[0:10:3] # -> Retorna: hauo\n",
        "    ```\n",
        "\n",
        "    **Ejercicio:**\n",
        "    Dada la siguiente String genere los siguientes slices </br>\n",
        "    * String hasta la posicion 5.\n",
        "    * String desde la posición 6.\n",
        "    * String invertido.\n",
        "    * Todo el string pero en saltos de 3.\n",
        "\n",
        "\\\n",
        "**Reglas:**\n",
        "1. No modifique la declaración de la función. El concepto detras de las funciones se verá mas adelante.\n",
        "2. Si no sigue alguna de estas reglas, el ejercicio será marcado como erroneo.\n",
        "\n",
        "\\\n",
        "**Respuesta Esperada**\n",
        "\n",
        "```python\n",
        "return resultados_string, ...\n",
        "```\n",
        "\n"
      ]
    },
    {
      "cell_type": "code",
      "execution_count": null,
      "metadata": {
        "id": "wenUGkHINCyq",
        "colab": {
          "base_uri": "https://localhost:8080/"
        },
        "outputId": "8c8a0d9d-5d4b-41af-ec18-ed7103410989"
      },
      "outputs": [
        {
          "output_type": "execute_result",
          "data": {
            "text/plain": [
              "('Estoy', 'aprendiendo', 'odneidnerpa yotsE', 'Eoaeid')"
            ]
          },
          "metadata": {},
          "execution_count": 1
        }
      ],
      "source": [
        "def function(string):\n",
        "    \"\"\"Escriba su codigo aqui...\"\"\"\n",
        "    string_p5 = string[:5] # imprime el texto de la cadena hasta la posicion 5 -1.\n",
        "    string_p6 = string[6:] # imprime el texto apartir de la pisición 6.\n",
        "    string_i = string[::-1] # imprime el string invertido.\n",
        "    string_s3 = string[::3] # imprime en saltos de 3 caracteres.\n",
        "\n",
        "    return string [0:5],string[6:], string[::-1],string[::3]\n",
        "\n",
        "\n",
        "function(\"Estoy aprendiendo\")"
      ]
    },
    {
      "cell_type": "markdown",
      "metadata": {
        "id": "FUESHrYcl5Om"
      },
      "source": [
        "<p>\n",
        "    <img src=\"https://cdn.icon-icons.com/icons2/1130/PNG/512/numberzeroinacircle_80181.png\" alt=\"04\" width=\"65\" height=\"65\" />\n",
        "    <img src=\"https://cdn.icon-icons.com/icons2/1130/PNG/512/numberfourincircularbutton_80047.png\" alt=\"04\" width=\"65\" height=\"65\" />\n",
        "</p>\n",
        "\n",
        "\n",
        "* **ID** PYLVL1ASTR-04\n",
        "* **DESCRIPCIÓN:** Operadores de cadenas de caracteres.\n",
        "\n",
        "    Concatenar\n",
        "    El proceso de concatenación se realiza mediante el operador de suma (+).</br>\n",
        "    \n",
        "    Escribir dentro de la función ``function`` la lógica para crear 3 variables que contengan cualquier palabra que desee y luego concatenarlos teniendo en cuenta los espacios entre las variables que va concatenar.\n",
        "\n",
        "\\\n",
        "**Reglas:**\n",
        "1. No modifique la declaración de la función. El concepto detras de las funciones se verá mas adelante.\n",
        "2. Si no sigue alguna de estas reglas, el ejercicio será marcado como erroneo.\n",
        "\n",
        "\\\n",
        "**Respuesta Esperada**\n",
        "\n",
        "```python\n",
        "return concatenacion\n",
        "```\n"
      ]
    },
    {
      "cell_type": "code",
      "execution_count": null,
      "metadata": {
        "cellView": "form",
        "id": "4kZX3b9om0ah",
        "colab": {
          "base_uri": "https://localhost:8080/",
          "height": 35
        },
        "outputId": "f3d5353a-5499-47e4-d962-473a6168f355"
      },
      "outputs": [
        {
          "output_type": "execute_result",
          "data": {
            "text/plain": [
              "'Hola, mi nombre es Dayan, mi primer apellido es Miranda y mi segundo apellido es Herrera'"
            ],
            "application/vnd.google.colaboratory.intrinsic+json": {
              "type": "string"
            }
          },
          "metadata": {},
          "execution_count": 49
        }
      ],
      "source": [
        "def function(__unused):\n",
        "    \"\"\"Escriba su codigo aqui...\"\"\"\n",
        "    nombre: str = \"Dayan\"\n",
        "    primer_apellido : str = \"Miranda\"\n",
        "    segundo_apellido: str = \"Herrera\"\n",
        "\n",
        "    return \"Hola, mi nombre es \" +  nombre  + \", mi primer apellido es \" + primer_apellido + \" y mi segundo apellido es \" + segundo_apellido\n",
        "\n",
        "function(None)"
      ]
    },
    {
      "cell_type": "markdown",
      "metadata": {
        "id": "i75ca6pU_EjI"
      },
      "source": [
        "<p>\n",
        "    <img src=\"https://cdn.icon-icons.com/icons2/1130/PNG/512/numberzeroinacircle_80181.png\" alt=\"05\" width=\"65\" height=\"65\" />\n",
        "    <img src=\"https://cdn.icon-icons.com/icons2/1130/PNG/512/numberfiveincircularbutton_80245.png\" alt=\"05\" width=\"65\" height=\"65\" />\n",
        "</p>\n",
        "\n",
        "\n",
        "* **ID** PYLVL1ASTR-05\n",
        "* **DESCRIPCIÓN:** Operadores de cadenas de caracteres.\n",
        "\n",
        "    Multiplicar </br>\n",
        "    Si quieren varias copias de una cadena de caracteres se utiliza el operador de multiplicación (*)</br>\n",
        "\n",
        "    Escribir dentro de la función ``function`` la lógica para imprimir 4 veces el input que se entrega en el parametro `string` . Recuerde que el tipo de dato entregado por el parametro `string` no siempre será string.\n",
        "\n",
        "\\\n",
        "**Reglas:**\n",
        "1. No modifique la declaración de la función. El concepto detras de las funciones se verá mas adelante.\n",
        "2. Si no sigue alguna de estas reglas, el ejercicio será marcado como erroneo.\n",
        "\n",
        "\\\n",
        "**Respuesta Esperada**\n",
        "\n",
        "```python\n",
        "return string_por_4\n",
        "```"
      ]
    },
    {
      "cell_type": "code",
      "execution_count": null,
      "metadata": {
        "id": "PEicBMrL_EjI",
        "colab": {
          "base_uri": "https://localhost:8080/",
          "height": 53
        },
        "outputId": "17e2e4d5-78b6-440b-a818-9c74dcac3951"
      },
      "outputs": [
        {
          "output_type": "stream",
          "name": "stdout",
          "text": [
            "PythonPythonPythonPython\n"
          ]
        },
        {
          "output_type": "execute_result",
          "data": {
            "text/plain": [
              "'PythonPythonPythonPython'"
            ],
            "application/vnd.google.colaboratory.intrinsic+json": {
              "type": "string"
            }
          },
          "metadata": {},
          "execution_count": 16
        }
      ],
      "source": [
        "def function(string):\n",
        "    lenguaje_p: str = string\n",
        "    string_por_4 = ('Python') * 4\n",
        "    print(string_por_4)\n",
        "\n",
        "\n",
        "    return  string_por_4\n",
        "\n",
        "function(\"Python\")"
      ]
    },
    {
      "cell_type": "markdown",
      "metadata": {
        "id": "dfl1e5nD_EjI"
      },
      "source": [
        "<p>\n",
        "    <img src=\"https://cdn.icon-icons.com/icons2/1130/PNG/512/numberzeroinacircle_80181.png\" alt=\"06\" width=\"65\" height=\"65\" />\n",
        "    <img src=\"https://cdn.icon-icons.com/icons2/1130/PNG/512/numbersixinacircle_80203.png\" alt=\"06\" width=\"65\" height=\"65\" />\n",
        "</p>\n",
        "\n",
        "\n",
        "* **ID** PYLVL1ASTR-06\n",
        "* **DESCRIPCIÓN:** Métodos para cadenas de caracteres.\n",
        "\n",
        "    Los métodos de los objetos string en python para analizar el contenido de la cadena de caracteres son: <br/>\n",
        "    &nbsp;&nbsp;&nbsp;&nbsp;len()\tRetorna el tamaño de la cadena de caracteres <br/>\n",
        "    &nbsp;&nbsp;&nbsp;&nbsp;count()\tRetorna el numero de veces que se repite un caracter en la cadena <br/>\n",
        "    &nbsp;&nbsp;&nbsp;&nbsp;find\tBusca un substring o caracter dentro de la cadena de caracteres, retorna la posicion del primer caracter del substring dentro de la cadena si existe<br/>\n",
        "\n",
        "    USO: <br/>\n",
        "    &nbsp;&nbsp;&nbsp;&nbsp;len(string) <br/>\n",
        "    &nbsp;&nbsp;&nbsp;&nbsp;.count() <br/>\n",
        "    &nbsp;&nbsp;&nbsp;&nbsp;.find() <br/>\n",
        "\n",
        "    **Ejercicio:**<br/>\n",
        "    Dado un input dado por el parametro `string`, escribir dentro de la función ``function`` la lógica que permita calcular, imprimir y retornar:\n",
        "    1. su longitud.\n",
        "    2. la cantidad de veces que se repite el caracter 'o'.\n",
        "    3. La posición de donde comienza la ultima palabra.\n",
        "\n",
        "\\\n",
        "**Reglas:**\n",
        "1. No modifique la declaración de la función. El concepto detras de las funciones se verá mas adelante.\n",
        "2. Si no sigue alguna de estas reglas, el ejercicio será marcado como erroneo.\n",
        "\n",
        "\\\n",
        "**Respuesta Esperada**\n",
        "\n",
        "```python\n",
        "return resultados_solicitados, ...\n",
        "```"
      ]
    },
    {
      "cell_type": "markdown",
      "source": [],
      "metadata": {
        "id": "o_rLM9cPCf0J"
      }
    },
    {
      "cell_type": "code",
      "execution_count": null,
      "metadata": {
        "id": "JHhaPTPL_EjI",
        "colab": {
          "base_uri": "https://localhost:8080/"
        },
        "outputId": "8cbed7f4-ee6c-4305-ffcf-41515035c6da"
      },
      "outputs": [
        {
          "output_type": "stream",
          "name": "stdout",
          "text": [
            "La longitud de la cadena es: 27\n",
            "El caracter 'o' se repite: 4 veces\n",
            "La posición donde comienza la última palabra de la cadena es la número: 19\n"
          ]
        },
        {
          "output_type": "execute_result",
          "data": {
            "text/plain": [
              "(\"python softserve's bootcamp\", \"python softserve's bootcamp\", 19)"
            ]
          },
          "metadata": {},
          "execution_count": 75
        }
      ],
      "source": [
        "from ctypes import string_at\n",
        "\n",
        "def function(string):\n",
        "    cadena: str = str (string)\n",
        "    longitud_cadena = cadena\n",
        "    print(\"La longitud de la cadena es:\", len(cadena))\n",
        "    caracter_repetido:str = str (cadena)\n",
        "    caracter = caracter_repetido\n",
        "    print(\"El caracter 'o' se repite:\", caracter_repetido.count(\"o\"), \"veces\")\n",
        "    ultima_palabra_cadena : str = str (string)\n",
        "    ultima_palabra = ultima_palabra_cadena.find(string.split(' ')[-1])\n",
        "    print(\"La posición donde comienza la última palabra de la cadena es la número:\", ultima_palabra_cadena.find(string.split(' ')[-1]))\n",
        "    resultados_solicitados = cadena, longitud_cadena, caracter,  ultima_palabra\n",
        "\n",
        "    return resultados_solicitados\n",
        "\n",
        "\n",
        "function(\"python softserve's bootcamp\")"
      ]
    },
    {
      "cell_type": "markdown",
      "metadata": {
        "id": "6fLkFTse_EjI"
      },
      "source": [
        "<p>\n",
        "    <img src=\"https://cdn.icon-icons.com/icons2/1130/PNG/512/numberzeroinacircle_80181.png\" alt=\"07\" width=\"65\" height=\"65\" />\n",
        "    <img src=\"https://cdn.icon-icons.com/icons2/1130/PNG/512/numberseveninacircle_80279.png\" alt=\"07\" width=\"65\" height=\"65\" />\n",
        "</p>\n",
        "\n",
        "\n",
        "* **ID** PYLVL1ASTR-07\n",
        "* **DESCRIPCIÓN:** Métodos para cadenas de caracteres.\n",
        "\n",
        "    Estos son los métodos mas utilizados para realizar transformaciones a la cadena de caracteres dentro de python: <br/>\n",
        "    &nbsp;&nbsp;&nbsp;&nbsp;.upper()\tColoca todo el string en mayúscula <br/>\n",
        "    &nbsp;&nbsp;&nbsp;&nbsp;.lower()\tColoca todo el string en minúscula <br/>\n",
        "    &nbsp;&nbsp;&nbsp;&nbsp;.capitalize()\tColoca todo el primer en mayúscula <br/>\n",
        "    &nbsp;&nbsp;&nbsp;&nbsp;.title()\tColoca todo el primer carcater de cada palabra en mayúscula <br/>\n",
        "    &nbsp;&nbsp;&nbsp;&nbsp;.replace(str1,str2)\tReemplaza un substring por otro <br/>\n",
        "    &nbsp;&nbsp;&nbsp;&nbsp;.strip()\tElimina los espacios innecesarios (en blanco) al inicio y fin del string <br/>\n",
        "    &nbsp;&nbsp;&nbsp;&nbsp;.rstrip()\tElimina los espacios innecesarios (en blanco) al fin del string <br/>\n",
        "    &nbsp;&nbsp;&nbsp;&nbsp;.lstrip()\tElimina los espacios innecesarios (en blanco) al inicio del string<br/>\n",
        "\n",
        "    USO: <br/>\n",
        "    &nbsp;&nbsp;&nbsp;&nbsp;string.metodo() <br/>\n",
        "\n",
        "    **Ejercicio:** <br/>\n",
        "    Dado un input dado por el parametro `string`, escribir dentro de la función ``function`` la lógica que permita calcular, imprimir y retornar:\n",
        "    1. Cambiar el texto a mayuscula.\n",
        "    2. Eliminar el espacio al inicio del string.\n",
        "    3. Convertir el text a minúscula.\n",
        "    4. Convertir el texto a letra capital (tipo titulo).\n",
        "    5. Quitar los espacios del texto.\n",
        "\n",
        "\\\n",
        "**Reglas:**\n",
        "1. No modifique la declaración de la función. El concepto detras de las funciones se verá mas adelante.\n",
        "2. Si no sigue alguna de estas reglas, el ejercicio será marcado como erroneo.\n",
        "\n",
        "\\\n",
        "**Respuesta Esperada**\n",
        "\n",
        "```python\n",
        "return resultados_solicitados, ...\n",
        "```"
      ]
    },
    {
      "cell_type": "code",
      "execution_count": 12,
      "metadata": {
        "id": "l8Ckqkie_EjI",
        "colab": {
          "base_uri": "https://localhost:8080/"
        },
        "outputId": "b7ffd23c-b2c4-452f-9f5a-81103ab2849d"
      },
      "outputs": [
        {
          "output_type": "stream",
          "name": "stdout",
          "text": [
            "Cambiar el texto a mayúscula: PYTHON\n",
            "Eliminar el espacio al inicio del string : Python\n",
            "Convertir el texto a minúscula : python\n",
            "Convertir el texto a letra capital: Python\n",
            "Quitar los espacios del texto: Python\n"
          ]
        },
        {
          "output_type": "execute_result",
          "data": {
            "text/plain": [
              "('Python', 'PYTHON', 'Python', 'python', 'Python', 'Python')"
            ]
          },
          "metadata": {},
          "execution_count": 12
        }
      ],
      "source": [
        "def function(string):\n",
        "    cadena: str = str (string)\n",
        "    candena_transformada = cadena.upper()\n",
        "\n",
        "    print (\"Cambiar el texto a mayúscula:\", candena_transformada)\n",
        "\n",
        "    # Eliminar el espacio al inicio del string\n",
        "    espacios: str = str(cadena.lstrip())\n",
        "    eliminar_espacios = espacios\n",
        "    print(\"Eliminar el espacio al inicio del string :\", eliminar_espacios)\n",
        "\n",
        "    # Convertir el texto a minúscula\n",
        "    cadena_minuscula:str = str (cadena.lower())\n",
        "    minuscula = cadena_minuscula\n",
        "    print(\"Convertir el texto a minúscula :\", cadena_minuscula)\n",
        "\n",
        "    # Convertir el texto a letra capital (tipo título)\n",
        "    cadena_titulo:str = str (cadena.title())\n",
        "    titulo_cadena = cadena_titulo\n",
        "    print(\"Convertir el texto a letra capital:\",cadena_titulo)\n",
        "\n",
        "    # Quitar los espacios del texto\n",
        "    cadena_sin_espacios:str = str(cadena.replace(\" \", \"\"))\n",
        "    sin_espacio = cadena_sin_espacios\n",
        "    print(\"Quitar los espacios del texto:\", cadena_sin_espacios)\n",
        "    resultados_solicitados = cadena, candena_transformada, eliminar_espacios, cadena_minuscula, cadena_titulo, cadena_sin_espacios\n",
        "\n",
        "    return resultados_solicitados\n",
        "\n",
        "\n",
        "function(\"Python\")\n"
      ]
    },
    {
      "cell_type": "markdown",
      "metadata": {
        "id": "754W607t_EjI"
      },
      "source": [
        "<p>\n",
        "    <img src=\"https://cdn.icon-icons.com/icons2/1130/PNG/512/numberzeroinacircle_80181.png\" alt=\"08\" width=\"65\" height=\"65\" />\n",
        "    <img src=\"https://cdn.icon-icons.com/icons2/1130/PNG/512/numbereightinacircle_80071.png\" alt=\"08\" width=\"65\" height=\"65\" />\n",
        "</p>\n",
        "\n",
        "\n",
        "* **ID** PYLVL1ASTR-08\n",
        "* **DESCRIPCIÓN:** Métodos para cadenas de caracteres.\n",
        "\n",
        "    Estos son los métodos mas utilizados para realizar transformaciones a la cadena de caracteres dentro de python: </br>\n",
        "    &nbsp;&nbsp;&nbsp;&nbsp;.upper()\tColoca todo el string en mayúscula </br>\n",
        "    &nbsp;&nbsp;&nbsp;&nbsp;.lower()\tColoca todo el string en minúscula </br>\n",
        "    &nbsp;&nbsp;&nbsp;&nbsp;.capitalize()\tColoca todo el primer en mayúscula </br>\n",
        "    &nbsp;&nbsp;&nbsp;&nbsp;.title()\tColoca todo el primer carcater de cada palabra en mayúscula </br>\n",
        "    &nbsp;&nbsp;&nbsp;&nbsp;.replace(str1,str2)\tReemplaza un substring por otro </br>\n",
        "    &nbsp;&nbsp;&nbsp;&nbsp;.strip()\tElimina los espacios innecesarios (en blanco) al inicio y fin del string </br>\n",
        "    &nbsp;&nbsp;&nbsp;&nbsp;.rstrip()\tElimina los espacios innecesarios (en blanco) al fin del string </br>\n",
        "    &nbsp;&nbsp;&nbsp;&nbsp;.lstrip()\tElimina los espacios innecesarios (en blanco) al inicio del string</br>\n",
        "\n",
        "    USO: </br>\n",
        "    &nbsp;&nbsp;&nbsp;&nbsp;string.metodo() </br>\n",
        "\n",
        "    **Ejercicio:** <br>\n",
        "    Dado un input dado por el parametro `string`, escribir dentro de la función ``function`` la lógica que permita calcular, imprimir y retornar:\n",
        "    1. Colocar el primer caracter de cada palabra en mayuscula <br>\n",
        "    2. cambiar el texto 'Curso' por 'Bootcamp' <br>\n",
        "    3. cree una nueva variable que contenga el mismo string pero eliminando los espacios al inicio y final del string\n",
        "\n",
        "    Tener en cuenta que la longitud del string original len() es 30, la nueva variable con el string sin los espacios en blanco debe tener un len de 28\n",
        "\n",
        "\\\n",
        "**Reglas:**\n",
        "1. No modifique la declaración de la función. El concepto detras de las funciones se verá mas adelante.\n",
        "2. Si no sigue alguna de estas reglas, el ejercicio será marcado como erroneo.\n",
        "\n",
        "\\\n",
        "**Respuesta Esperada**\n",
        "\n",
        "```python\n",
        "return resultados_solicitados, ...\n",
        "```"
      ]
    },
    {
      "cell_type": "code",
      "execution_count": 13,
      "metadata": {
        "id": "Ibvm22Xw_EjI",
        "colab": {
          "base_uri": "https://localhost:8080/"
        },
        "outputId": "a48b7a39-c045-44d2-c2b4-c6fd923e2854"
      },
      "outputs": [
        {
          "output_type": "stream",
          "name": "stdout",
          "text": [
            "Inicio de cada palabra en mayúscula :  Curso De Python En Softserve \n",
            "Reemplzando la palabra 'Curso' por 'Bootcamp':  Bootcamp de Python en Softserve \n",
            " La nueva variable tiene : 28 caracteres\n"
          ]
        },
        {
          "output_type": "execute_result",
          "data": {
            "text/plain": [
              "(' Curso de Python en Softserve ',\n",
              " ' Curso de Python en Softserve ',\n",
              " ' Curso de Python en Softserve ',\n",
              " ' Curso de Python en Softserve ')"
            ]
          },
          "metadata": {},
          "execution_count": 13
        }
      ],
      "source": [
        "def function(string):\n",
        "    cadena: str = str (\" Curso de Python en Softserve \")\n",
        "    letra_mayuscula : str = cadena\n",
        "    print(\"Inicio de cada palabra en mayúscula :\", cadena.title())\n",
        "    reemplazar_cadena: str = str (cadena)\n",
        "    print(\"Reemplzando la palabra 'Curso' por 'Bootcamp':\", reemplazar_cadena.replace('Curso','Bootcamp'))\n",
        "    #Nueva_Cadena: str = str (\" Curso de Python en Softserve \")\n",
        "    cadena_nueva: str = str ( ' Curso de Python en Softserve ')\n",
        "    print(\" La nueva variable tiene :\", len(str(cadena_nueva.strip())), \"caracteres\")\n",
        "    resultados_solicitados = cadena, letra_mayuscula, reemplazar_cadena, cadena_nueva\n",
        "\n",
        "    return resultados_solicitados\n",
        "\n",
        "\n",
        "function(' Curso de Python en Softserve ')"
      ]
    },
    {
      "cell_type": "markdown",
      "metadata": {
        "id": "h_aHt1If_EjJ"
      },
      "source": [
        "<p>\n",
        "    <img src=\"https://cdn.icon-icons.com/icons2/1130/PNG/512/numberzeroinacircle_80181.png\" alt=\"09\" width=\"65\" height=\"65\" />\n",
        "    <img src=\"https://cdn.icon-icons.com/icons2/1130/PNG/512/numbernineinacircle_80218.png\" alt=\"09\" width=\"65\" height=\"65\" />\n",
        "</p>\n",
        "\n",
        "* **ID** PYLVL1ASTR-09\n",
        "* **DESCRIPCIÓN:** Métodos para cadenas de caracteres.\n",
        "\n",
        "    Dividir Caracteres dentro de python: </br>\n",
        "    `split([...])`\tSepara a traves de un delimitador un objeto del tipo str en python en varios strings almacenados en un objeto del tipo list. </br>\n",
        "\n",
        "    USO: </br>\n",
        "    string.split('delimitador') </br>\n",
        "\n",
        "    **Ejemplo:** </br>\n",
        "    ```python\n",
        "    # Separar el siguiente string en el punto. </br>\n",
        "    frase = 'Hola.Mundo'\n",
        "    frase = frase.split('.')\n",
        "    print(frase) # -> daria como resultado ['Hola', 'Mundo']\n",
        "    # Cada string esta en una posicion de la lista comenzando en cero\n",
        "    # Para imprimir el primer valor de la lista seria:\n",
        "    print(frase[0]) # -> imprimiría 'Hola'\n",
        "    # Para acceder al ultimo elemento se utiliza [-1]\n",
        "    print(frase[-1]) # -> imprimiría 'Mundo'\n",
        "    ```\n",
        "\n",
        "    **Ejercicio:** </br>\n",
        "    Dado un input dado por el parametro `string`, escribir dentro de la función ``function`` la lógica que permita calcular, imprimir y retornar:\n",
        "    1. Separe el string en el codigo por sus espacios en blanco y almacenelo en la misma variable.\n",
        "    2. Luego almacene el string 'Python' de la lista en otra variable.\n",
        "    3. Cambie el texto 'Python' en esa variable por mayusculas he imprimalo.\n",
        "\n",
        "\\\n",
        "**Reglas:**\n",
        "1. No modifique la declaración de la función. El concepto detras de las funciones se verá mas adelante.\n",
        "2. Si no sigue alguna de estas reglas, el ejercicio será marcado como erroneo.\n",
        "\n",
        "\\\n",
        "**Respuesta Esperada**\n",
        "\n",
        "```python\n",
        "return resultado_operacion\n",
        "```"
      ]
    },
    {
      "cell_type": "code",
      "execution_count": null,
      "metadata": {
        "id": "9VkJ9Z9h_EjJ",
        "colab": {
          "base_uri": "https://localhost:8080/"
        },
        "outputId": "2243151d-fa99-4785-cdc4-c5c98af4a8b6"
      },
      "outputs": [
        {
          "output_type": "stream",
          "name": "stdout",
          "text": [
            "Separando la variable por sus espacios : ['Bootcamp', 'de', 'Python', 'en', 'Softserve']\n",
            "Imprimiendo en Mayúscula la variable: PYTHON\n"
          ]
        },
        {
          "output_type": "execute_result",
          "data": {
            "text/plain": [
              "('Bootcamp de Python en Softserve', 'Python')"
            ]
          },
          "metadata": {},
          "execution_count": 73
        }
      ],
      "source": [
        "\n",
        "def function(string):\n",
        "    texto:str = str (\"Bootcamp de Python en Softserve\")\n",
        "    frase : str = texto\n",
        "    print(\"Separando la variable por sus espacios :\",texto.split( ))\n",
        "    lenguaje:str = str (\"Python\")\n",
        "    print(\"Imprimiendo en Mayúscula la variable:\",lenguaje.upper())\n",
        "    resultado_operacion = frase, lenguaje\n",
        "\n",
        "    return resultado_operacion\n",
        "\n",
        "\n",
        "function('Bootcamp de Python en Softserve')"
      ]
    },
    {
      "cell_type": "markdown",
      "metadata": {
        "id": "iBQ8-4ho_EjJ"
      },
      "source": [
        "<p>\n",
        "    <img src=\"https://cdn.icon-icons.com/icons2/1130/PNG/512/numberoneinacircle_80030.png\" alt=\"10\" width=\"65\" height=\"65\" />\n",
        "    <img src=\"https://cdn.icon-icons.com/icons2/1130/PNG/512/numberzeroinacircle_80181.png\" alt=\"10\" width=\"65\" height=\"65\" />\n",
        "</p>\n",
        "\n",
        "\n",
        "* **ID** PYLVL1ASTR-10\n",
        "* **DESCRIPCIÓN:** Métodos para cadenas de caracteres.\n",
        "\n",
        "    Encadenar Metodos </br>\n",
        "    En python se pueden encadenar metodos en una sola linea de codigo </br>\n",
        "\n",
        "    USO: </br>\n",
        "    string.metodo1().metodo2().metodo3() ... </br>\n",
        "\n",
        "    **Ejemplo:**<br/>\n",
        "    ```python\n",
        "    string = 'Hola mundo'\n",
        "    # Separar el string, acceder a su segundo elemento, convertir su primer caracter a mayuscula he invierta su sentido.\n",
        "\n",
        "    string = string.split(' ')[1].title()[::-1]\n",
        "    print(string) # -> imprime odnuM\n",
        "    ```\n",
        "\n",
        "    \\\n",
        "    **Ejercicio:** </br>\n",
        "    Dado un input dado por el parametro `string`, escribir dentro de la función ``function`` la lógica que permita calcular, imprimir y retornar:\n",
        "    1. dado el string `string1`, separelo, acceda al ultimo elemento, reemplace su valor por python en mayusculas he imprimalo.\n",
        "    2. dado el string `string2`, separelo, acceda al segundo elemento, inviertalo he imprima la cantidad de veces que contiene el caracter 'i'.\n",
        "\n",
        "\\\n",
        "**Reglas:**\n",
        "1. No modifique la declaración de la función. El concepto detras de las funciones se verá mas adelante.\n",
        "2. Si no sigue alguna de estas reglas, el ejercicio será marcado como erroneo.\n",
        "\n",
        "\\\n",
        "**Respuesta Esperada**\n",
        "\n",
        "```python\n",
        "return resultado_operacion\n",
        "```"
      ]
    },
    {
      "cell_type": "code",
      "execution_count": null,
      "metadata": {
        "id": "U1DlHVs6_EjJ",
        "colab": {
          "base_uri": "https://localhost:8080/"
        },
        "outputId": "5cda17fe-b1b6-447c-a14b-6ad78edf4825"
      },
      "outputs": [
        {
          "output_type": "stream",
          "name": "stdout",
          "text": [
            "Me gusta aprender a programar en : PYTHON\n",
            "estoy-delimitado-por-guiones: la letra 'i' se repite : 0 veces en el segundo elemento de la lista.\n"
          ]
        },
        {
          "output_type": "execute_result",
          "data": {
            "text/plain": [
              "('Me gusta aprender a programar en Java', 'estoy-delimitado-por-guiones')"
            ]
          },
          "metadata": {},
          "execution_count": 72
        }
      ],
      "source": [
        "\n",
        "def function(string1, string2):\n",
        "    string1: str = str ('Me gusta aprender a programar en Java')\n",
        "    aprender = string1\n",
        "    print(\"Me gusta aprender a programar en :\", str(aprender.split(' ')[6].replace(\"Java\", \"Python\").upper()))\n",
        "    string2: str = str ('estoy-delimitado-por-guiones')\n",
        "    delimitado = string2\n",
        "    print(\"estoy-delimitado-por-guiones: la letra 'i' se repite :\", delimitado.split('-')[2][::-1].count(\"i\"),\"veces en el segundo elemento de la lista.\")\n",
        "    resultado_operacion = string1, string2\n",
        "\n",
        "    return  resultado_operacion\n",
        "\n",
        "\n",
        "function('Me gusta aprender a programar en \"Java\"', 'estoy-delimitado-por-guiones' )"
      ]
    }
  ],
  "metadata": {
    "colab": {
      "provenance": [],
      "include_colab_link": true
    },
    "kernelspec": {
      "display_name": "Python 3",
      "name": "python3"
    },
    "language_info": {
      "codemirror_mode": {
        "name": "ipython",
        "version": 3
      },
      "file_extension": ".py",
      "mimetype": "text/x-python",
      "name": "python",
      "nbconvert_exporter": "python",
      "pygments_lexer": "ipython3",
      "version": "3.9.12"
    }
  },
  "nbformat": 4,
  "nbformat_minor": 0
}
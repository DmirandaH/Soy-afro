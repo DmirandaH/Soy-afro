{
  "nbformat": 4,
  "nbformat_minor": 0,
  "metadata": {
    "colab": {
      "provenance": [],
      "authorship_tag": "ABX9TyMMStSsGavuTCpmHjU2t1G0",
      "include_colab_link": true
    },
    "kernelspec": {
      "name": "python3",
      "display_name": "Python 3"
    },
    "language_info": {
      "name": "python"
    }
  },
  "cells": [
    {
      "cell_type": "markdown",
      "metadata": {
        "id": "view-in-github",
        "colab_type": "text"
      },
      "source": [
        "<a href=\"https://colab.research.google.com/github/DmirandaH/Soy-afro/blob/master/ejemplos.ipynb\" target=\"_parent\"><img src=\"https://colab.research.google.com/assets/colab-badge.svg\" alt=\"Open In Colab\"/></a>"
      ]
    },
    {
      "cell_type": "markdown",
      "source": [
        "Lección 1 - Definición de funciones"
      ],
      "metadata": {
        "id": "VHMjwUpFk-J9"
      }
    },
    {
      "cell_type": "code",
      "execution_count": null,
      "metadata": {
        "id": "C6NyN8OQk072"
      },
      "outputs": [],
      "source": [
        "def saludar ():\n",
        "    print(\"Hola! Este print se llama desde la función saludar()\")\n",
        "saludar()\n",
        "\n",
        "\n"
      ]
    },
    {
      "cell_type": "code",
      "source": [
        "def dibujar_tabla_del_5():\n",
        "    for i in range(11):\n",
        "      print(\"5 *\",i,\"=\", i*5)\n",
        "dibujar_tabla_del_5()\n"
      ],
      "metadata": {
        "id": "pfscJVECniW3"
      },
      "execution_count": null,
      "outputs": []
    },
    {
      "cell_type": "code",
      "source": [
        "## alcance de la variable\n",
        "def test():\n",
        "    n = 10\n",
        "test()"
      ],
      "metadata": {
        "id": "pMb7K4Dho1tT"
      },
      "execution_count": null,
      "outputs": []
    },
    {
      "cell_type": "code",
      "source": [
        "m = 10\n",
        "def test():\n",
        "    print(m)\n",
        "test()"
      ],
      "metadata": {
        "colab": {
          "base_uri": "https://localhost:8080/"
        },
        "id": "lB1WoGT_pDN7",
        "outputId": "1187ed57-9899-4aaa-facc-4e477996779d"
      },
      "execution_count": null,
      "outputs": [
        {
          "output_type": "stream",
          "name": "stdout",
          "text": [
            "10\n"
          ]
        }
      ]
    },
    {
      "cell_type": "code",
      "source": [
        "# Completa el ejercicio\n",
        "def par_o_impar(numero):\n",
        "    if numero % 2 == 0:\n",
        "        print(\"PAR\")\n",
        "    else:\n",
        "        print(\"IMPAR\")"
      ],
      "metadata": {
        "id": "FsEM3DIas0pL"
      },
      "execution_count": null,
      "outputs": []
    },
    {
      "cell_type": "code",
      "source": [
        "# Completa el ejercicio\n",
        "def recortar(numero, minimo, maximo):\n",
        "    # Si el número es menor que el minimo\n",
        "    if numero < minimo:\n",
        "        # Devolvemos el minimo\n",
        "        return minimo\n",
        "    # Si el número es mayor que el máximo\n",
        "    elif numero > maximo:\n",
        "        # Devolvemos el máximo\n",
        "        return maximo\n",
        "    # En cualquier otro caso devolvemos el número\n",
        "    return numero\n",
        "recortar(1, 5, 4)\n"
      ],
      "metadata": {
        "id": "qyc2AJqhvuo4",
        "outputId": "b6b8f1f0-80c5-40f8-da80-2116b0aae92a",
        "colab": {
          "base_uri": "https://localhost:8080/"
        }
      },
      "execution_count": 4,
      "outputs": [
        {
          "output_type": "execute_result",
          "data": {
            "text/plain": [
              "5"
            ]
          },
          "metadata": {},
          "execution_count": 4
        }
      ]
    },
    {
      "cell_type": "markdown",
      "source": [
        "Sección: Argumentos y Parámetros"
      ],
      "metadata": {
        "id": "tPy6M43MyTnW"
      }
    },
    {
      "cell_type": "code",
      "source": [
        "def resta(a,b):\n",
        "    return a-b\n",
        "resta(1,2)\n"
      ],
      "metadata": {
        "id": "53pusqEmyfqk",
        "outputId": "62359317-205b-4137-90af-cd791722eaa9",
        "colab": {
          "base_uri": "https://localhost:8080/"
        }
      },
      "execution_count": 8,
      "outputs": [
        {
          "output_type": "execute_result",
          "data": {
            "text/plain": [
              "-1"
            ]
          },
          "metadata": {},
          "execution_count": 8
        }
      ]
    },
    {
      "cell_type": "code",
      "source": [
        "resta(b=2,a=1)\n"
      ],
      "metadata": {
        "id": "YkwsM1qCy54V",
        "outputId": "78f6276e-fc54-4edf-9f25-acace8bec6ed",
        "colab": {
          "base_uri": "https://localhost:8080/"
        }
      },
      "execution_count": 10,
      "outputs": [
        {
          "output_type": "execute_result",
          "data": {
            "text/plain": [
              "-1"
            ]
          },
          "metadata": {},
          "execution_count": 10
        }
      ]
    },
    {
      "cell_type": "code",
      "source": [],
      "metadata": {
        "id": "JKz3jrdUzL8a"
      },
      "execution_count": null,
      "outputs": []
    }
  ]
}
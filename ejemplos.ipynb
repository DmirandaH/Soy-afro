{
  "nbformat": 4,
  "nbformat_minor": 0,
  "metadata": {
    "colab": {
      "provenance": [],
      "authorship_tag": "ABX9TyO5rYkiZWcThtU8lTMipAUE",
      "include_colab_link": true
    },
    "kernelspec": {
      "name": "python3",
      "display_name": "Python 3"
    },
    "language_info": {
      "name": "python"
    }
  },
  "cells": [
    {
      "cell_type": "markdown",
      "metadata": {
        "id": "view-in-github",
        "colab_type": "text"
      },
      "source": [
        "<a href=\"https://colab.research.google.com/github/DmirandaH/Soy-afro/blob/master/ejemplos.ipynb\" target=\"_parent\"><img src=\"https://colab.research.google.com/assets/colab-badge.svg\" alt=\"Open In Colab\"/></a>"
      ]
    },
    {
      "cell_type": "markdown",
      "source": [
        "Lección 1 - Definición de funciones"
      ],
      "metadata": {
        "id": "VHMjwUpFk-J9"
      }
    },
    {
      "cell_type": "code",
      "execution_count": null,
      "metadata": {
        "id": "C6NyN8OQk072"
      },
      "outputs": [],
      "source": [
        "def saludar ():\n",
        "    print(\"Hola! Este print se llama desde la función saludar()\")\n",
        "saludar()\n",
        "\n",
        "\n"
      ]
    },
    {
      "cell_type": "code",
      "source": [
        "def dibujar_tabla_del_5():\n",
        "    for i in range(11):\n",
        "      print(\"5 *\",i,\"=\", i*5)\n",
        "dibujar_tabla_del_5()\n"
      ],
      "metadata": {
        "id": "pfscJVECniW3"
      },
      "execution_count": null,
      "outputs": []
    },
    {
      "cell_type": "code",
      "source": [
        "## alcance de la variable\n",
        "def test():\n",
        "    n = 10\n",
        "test()"
      ],
      "metadata": {
        "id": "pMb7K4Dho1tT"
      },
      "execution_count": 8,
      "outputs": []
    },
    {
      "cell_type": "code",
      "source": [
        "m = 10\n",
        "def test():\n",
        "    print(m)\n",
        "test()"
      ],
      "metadata": {
        "colab": {
          "base_uri": "https://localhost:8080/"
        },
        "id": "lB1WoGT_pDN7",
        "outputId": "1187ed57-9899-4aaa-facc-4e477996779d"
      },
      "execution_count": 10,
      "outputs": [
        {
          "output_type": "stream",
          "name": "stdout",
          "text": [
            "10\n"
          ]
        }
      ]
    }
  ]
}